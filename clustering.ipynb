{
 "cells": [
  {
   "cell_type": "code",
   "execution_count": null,
   "metadata": {},
   "outputs": [],
   "source": [
    "import os\n",
    "import time\n",
    "import warnings\n",
    "from itertools import cycle, islice\n",
    "\n",
    "warnings.filterwarnings('ignore')\n",
    "\n",
    "import numpy as np\n",
    "import pandas as pd\n",
    "import matplotlib.pyplot as plt\n",
    "\n",
    "from sklearn import cluster, datasets, mixture\n",
    "from sklearn.neighbors import kneighbors_graph\n",
    "from sklearn.preprocessing import StandardScaler\n",
    "from sklearn import metrics\n",
    "\n",
    "from IPython.display import display\n",
    "\n",
    "import utils"
   ]
  },
  {
   "cell_type": "code",
   "execution_count": null,
   "metadata": {},
   "outputs": [],
   "source": [
    "print(__doc__)\n",
    "seed=23\n",
    "np.random.seed(seed)\n",
    "n_samples = 1500\n",
    "std = [1.5, 2.0, 2.5]\n",
    "noise = 0.05 #swiss-roll indv\n",
    "\n",
    "squares       = utils.get_squares(n_samples, std=std, seed=seed)\n",
    "blobs         = datasets.make_blobs(n_samples=n_samples, random_state=seed)\n",
    "circles       = utils.get_circles(n_samples,cov=std, seed=seed)\n",
    "\n",
    "varied           = datasets.make_blobs(n_samples=n_samples, cluster_std=std, random_state=seed)\n",
    "noisy_circles    = datasets.make_circles(n_samples=n_samples, factor=.5, noise=noise, random_state=seed)\n",
    "gaussian_circles = utils.get_gaussian_circles(cov=1 + noise, n_classes=5,inner_idx=2,n_samples=int(n_samples*5/3), seed=seed)\n",
    "\n",
    "noisy_moons      = datasets.make_moons(n_samples=n_samples, noise=noise, random_state=seed)\n",
    "X,y = datasets.make_moons(n_samples=int(n_samples/2), noise=noise)\n",
    "doubled_noisy_moons = np.vstack((X, X+[0,0.3])), np.concatenate((y,y+2))\n",
    "\n",
    "#rotated s-curve manifolds\n",
    "X, y = datasets.make_s_curve(750, noise=noise)\n",
    "X = X[:,[0,2]]\n",
    "s_curve_1     = np.vstack((X, X.dot([[0,1],[1,0]]))), np.concatenate((y,y))\n",
    "s_curve_2     = np.vstack((X.dot([[1,0],[1,1]]), X.dot([[-1,0],[-1,1]]))), np.concatenate((y,y))\n",
    "\n",
    "#rotated swiss-roll manifold\n",
    "X, y = datasets.make_swiss_roll(1500, noise=0.15)\n",
    "X = X[:,[0,2]]\n",
    "swiss_roll    = np.vstack((X, X.dot([[-1,0],[0,1]]))), np.concatenate((y,y))\n",
    "\n",
    "test_datasets = [\n",
    "    (squares, {'dataset_name':'squares'}),                                                      # 1\n",
    "    (blobs, {'eps':0.7, 'dataset_name':'blobs'}),                                                          # 2\n",
    "    (circles, {'dataset_name':'circles'}),                                                      # 3\n",
    "    (varied, {'eps': 0.5, 'dataset_name':'blobs_varied'}),                                     # 4\n",
    "    (noisy_circles, {'eps': 0.2, 'n_clusters': 2, 'dataset_name':'noisy_circles'}),                         # 5\n",
    "    (gaussian_circles, {'eps': 0.25, 'dataset_name':'gaussian_circles'}),                        # 6\n",
    "    (noisy_moons, {'n_clusters': 2, 'dataset_name':'noisy_moons'}),                             # 7\n",
    "    #(doubled_noisy_moons, {'n_clusters': 4, 'dataset_name':'doubled_noisy_moons'}),             # 8\n",
    "    #(s_curve_1, {'n_clusters': 4, 'dataset_name':'s_curve_1'}),                                 # 9\n",
    "    #(s_curve_2, {'n_clusters': 4, 'dataset_name':'s_curve_2'}),                                 # 10\n",
    "    #(swiss_roll, {'dataset_name':'swiss_roll'})                                                # 11\n",
    "]"
   ]
  },
  {
   "cell_type": "code",
   "execution_count": null,
   "metadata": {
    "scrolled": false
   },
   "outputs": [],
   "source": [
    "def process(X,y, params):\n",
    "    folder = './plots/005/'\n",
    "    if not os.path.isdir(folder+params['dataset_name']): os.makedirs(folder+params['dataset_name'])\n",
    "    df = []        \n",
    "    for i_m, (X_m, y_m) in zip(utils.fibs(n_samples), utils.modify_dataset(X, y, n_samples, scale=0.05, seed=seed)):        \n",
    "        compressed = utils.trfm_dataset(X_m,y_m,'c', seed)\n",
    "        stretched  = utils.trfm_dataset(X_m,y_m,'s', seed)\n",
    "        pipe = []\n",
    "        \n",
    "        default = params.copy()\n",
    "        default['dataset_name'] = '{0}-{1}'.format(params['dataset_name'],'original')\n",
    "        pipe.append(((X, y), default))\n",
    "        \n",
    "        default = params.copy()\n",
    "        default['dataset_name'] = '{0}-m{1}'.format(params['dataset_name'], i_m)\n",
    "        pipe.append(((X_m, y_m), default))\n",
    "\n",
    "        for i,((Xtc,ytc),(Xts,yts)) in enumerate(zip(compressed[1:], stretched[1:])):\n",
    "            default = params.copy()\n",
    "            default['dataset_name'] = '{0}-m{1}-{2}-{3}'.format(params['dataset_name'],i_m,'compress', i)\n",
    "            pipe.append(((Xtc, ytc), default)) \n",
    "            \n",
    "            default = params.copy()\n",
    "            default['dataset_name'] = '{0}-m{1}-{2}-{3}'.format(params['dataset_name'],i_m,'stretch', i)\n",
    "            pipe.append(((Xts, yts), default))\n",
    "        \n",
    "        df.append(utils.clustering(pipe, standardize=False, pic_name='{0}/m{1}'.format(folder+params['dataset_name'], i_m)))\n",
    "    return pd.concat(df)"
   ]
  },
  {
   "cell_type": "code",
   "execution_count": null,
   "metadata": {
    "scrolled": false
   },
   "outputs": [],
   "source": [
    "df_test = utils.clustering(test_datasets, standardize=False, pic_name='test_datasets/intro')"
   ]
  },
  {
   "cell_type": "code",
   "execution_count": null,
   "metadata": {},
   "outputs": [],
   "source": [
    "df_test"
   ]
  },
  {
   "cell_type": "code",
   "execution_count": null,
   "metadata": {},
   "outputs": [],
   "source": [
    "df_test.to_csv('./test_datasets/test_datasets.csv')"
   ]
  },
  {
   "cell_type": "code",
   "execution_count": null,
   "metadata": {},
   "outputs": [],
   "source": [
    "csv_folder = \"./data_005_csv\""
   ]
  },
  {
   "cell_type": "code",
   "execution_count": null,
   "metadata": {
    "scrolled": false
   },
   "outputs": [],
   "source": [
    "(X,y), params = test_datasets[0]\n",
    "process(X, y, params).to_csv('{0}/{1}.csv'.format(csv_folder, params['dataset_name']))"
   ]
  },
  {
   "cell_type": "code",
   "execution_count": null,
   "metadata": {},
   "outputs": [],
   "source": [
    "(X,y), params = test_datasets[1]\n",
    "process(X, y, params).to_csv('{0}/{1}.csv'.format(csv_folder, params['dataset_name']))"
   ]
  },
  {
   "cell_type": "code",
   "execution_count": null,
   "metadata": {},
   "outputs": [],
   "source": [
    "(X,y), params = test_datasets[2]\n",
    "process(X, y, params).to_csv('{0}/{1}.csv'.format(csv_folder, params['dataset_name']))"
   ]
  },
  {
   "cell_type": "code",
   "execution_count": null,
   "metadata": {},
   "outputs": [],
   "source": [
    "(X,y), params = test_datasets[3]\n",
    "process(X, y, params).to_csv('{0}/{1}.csv'.format(csv_folder, params['dataset_name']))"
   ]
  },
  {
   "cell_type": "code",
   "execution_count": null,
   "metadata": {},
   "outputs": [],
   "source": [
    "(X,y), params = test_datasets[4]\n",
    "process(X, y, params).to_csv('{0}/{1}.csv'.format(csv_folder, params['dataset_name']))"
   ]
  },
  {
   "cell_type": "code",
   "execution_count": null,
   "metadata": {},
   "outputs": [],
   "source": [
    "(X,y), params = test_datasets[5]\n",
    "process(X, y, params).to_csv('{0}/{1}.csv'.format(csv_folder, params['dataset_name']))"
   ]
  },
  {
   "cell_type": "code",
   "execution_count": null,
   "metadata": {},
   "outputs": [],
   "source": [
    "(X,y), params = test_datasets[6]\n",
    "process(X, y, params).to_csv('{0}/{1}.csv'.format(csv_folder, params['dataset_name']))"
   ]
  },
  {
   "cell_type": "code",
   "execution_count": null,
   "metadata": {},
   "outputs": [],
   "source": [
    "(X,y), params = test_datasets[7]\n",
    "process(X, y, params).to_csv('{0}/{1}.csv'.format(csv_folder, params['dataset_name']))"
   ]
  },
  {
   "cell_type": "code",
   "execution_count": null,
   "metadata": {},
   "outputs": [],
   "source": [
    "(X,y), params = test_datasets[8]\n",
    "process(X, y, params).to_csv('{0}/{1}.csv'.format(csv_folder, params['dataset_name']))"
   ]
  },
  {
   "cell_type": "code",
   "execution_count": null,
   "metadata": {},
   "outputs": [],
   "source": [
    "(X,y), params = test_datasets[9]\n",
    "process(X, y, params).to_csv('{0}/{1}.csv'.format(csv_folder, params['dataset_name']))"
   ]
  },
  {
   "cell_type": "code",
   "execution_count": null,
   "metadata": {},
   "outputs": [],
   "source": [
    "(X,y), params = test_datasets[10]\n",
    "process(X, y, params).to_csv('{0}/{1}.csv'.format(csv_folder, params['dataset_name']))"
   ]
  },
  {
   "cell_type": "code",
   "execution_count": null,
   "metadata": {},
   "outputs": [],
   "source": []
  },
  {
   "cell_type": "code",
   "execution_count": null,
   "metadata": {},
   "outputs": [],
   "source": []
  },
  {
   "cell_type": "code",
   "execution_count": null,
   "metadata": {},
   "outputs": [],
   "source": []
  },
  {
   "cell_type": "code",
   "execution_count": null,
   "metadata": {},
   "outputs": [],
   "source": []
  },
  {
   "cell_type": "code",
   "execution_count": null,
   "metadata": {},
   "outputs": [],
   "source": []
  },
  {
   "cell_type": "code",
   "execution_count": null,
   "metadata": {},
   "outputs": [],
   "source": []
  },
  {
   "cell_type": "code",
   "execution_count": null,
   "metadata": {},
   "outputs": [],
   "source": []
  },
  {
   "cell_type": "code",
   "execution_count": null,
   "metadata": {},
   "outputs": [],
   "source": []
  },
  {
   "cell_type": "code",
   "execution_count": null,
   "metadata": {},
   "outputs": [],
   "source": []
  },
  {
   "cell_type": "code",
   "execution_count": null,
   "metadata": {},
   "outputs": [],
   "source": [
    "X, curve_color = datasets.make_s_curve(750, noise=0.05)\n",
    "X = X[:,[0,2]]\n",
    "\n",
    "plt.figure(figsize=(15,10))\n",
    "\n",
    "\n",
    "plt.subplot(2, 3, 1)\n",
    "plt.scatter(X[:,0],X[:,1], s=3, c=curve_color)\n",
    "plt.xlim(-3,3)\n",
    "plt.ylim(-3,3)\n",
    "\n",
    "T1 = np.array([[0,1],[1,0]])\n",
    "plt.subplot(2, 3, 2)\n",
    "plt.scatter(X.dot(T1)[:,0],X.dot(T1)[:,1], s=3, c=curve_color)\n",
    "plt.xlim(-3,3)\n",
    "plt.ylim(-3,3)\n",
    "\n",
    "data = np.vstack((X, X.dot(T1)))\n",
    "plt.subplot(2, 3, 3)\n",
    "plt.scatter(data[:,0], data[:,1], s=3, c=np.concatenate((curve_color,curve_color)))\n",
    "plt.xlim(-3,3)\n",
    "plt.ylim(-3,3)\n",
    "\n",
    "\n",
    "T2 = np.array([[1,0],[1,1]])\n",
    "plt.subplot(2, 3, 4)\n",
    "plt.scatter(X.dot(T2)[:,0],X.dot(T2)[:,1], s=3, c=curve_color)\n",
    "plt.xlim(-3,3)\n",
    "plt.ylim(-3,3)\n",
    "\n",
    "T3 = np.array([[-1,0],[-1,1]])\n",
    "plt.subplot(2, 3, 5)\n",
    "plt.scatter(X.dot(T3)[:,0],X.dot(T3)[:,1], s=3, c=curve_color)\n",
    "plt.xlim(-3,3)\n",
    "plt.ylim(-3,3)\n",
    "\n",
    "\n",
    "data = np.vstack((X.dot(T2), X.dot(T3)))\n",
    "plt.subplot(2, 3, 6)\n",
    "plt.scatter(data[:,0], data[:,1], s=3, c=np.concatenate((curve_color,curve_color)))"
   ]
  },
  {
   "cell_type": "code",
   "execution_count": null,
   "metadata": {},
   "outputs": [],
   "source": [
    "X, curve_color = datasets.make_swiss_roll(1500, noise=0.15)\n",
    "X = X[:,[0,2]]\n",
    "\n",
    "plt.figure(figsize=(15,5))\n",
    "\n",
    "plt.subplot(1, 3, 1)\n",
    "plt.scatter(X[:,0],X[:,1], s=3, c=curve_color)\n",
    "plt.xlim(-15,15)\n",
    "plt.ylim(-15,15)\n",
    "\n",
    "T1 = np.array([[-1,0],[0,1]])\n",
    "plt.subplot(1, 3, 2)\n",
    "plt.scatter(X.dot(T1)[:,0],X.dot(T1)[:,1], s=3, c=curve_color)\n",
    "plt.xlim(-15,15)\n",
    "plt.ylim(-15,15)\n",
    "\n",
    "X = np.vstack((X, X.dot(T1)))\n",
    "plt.subplot(1, 3, 3)\n",
    "plt.scatter(X[:,0],X[:,1], s=3, c=np.concatenate((curve_color,curve_color)))\n",
    "plt.xlim(-15,15)\n",
    "plt.ylim(-15,15)"
   ]
  },
  {
   "cell_type": "code",
   "execution_count": null,
   "metadata": {},
   "outputs": [],
   "source": [
    "X,y = datasets.make_moons(n_samples=500, noise=0.03)\n",
    "X = np.vstack((X, X[y==0,:]+[0,0.3],X[y==1,:]-[0,0.3]))\n",
    "y = np.concatenate((y,y[y==0]+2,y[y==1]+2))\n",
    "plt.scatter(X[:,0],X[:,1],s=3, c=y)"
   ]
  },
  {
   "cell_type": "code",
   "execution_count": null,
   "metadata": {},
   "outputs": [],
   "source": []
  }
 ],
 "metadata": {
  "kernelspec": {
   "display_name": "Python 3",
   "language": "python",
   "name": "python3"
  },
  "language_info": {
   "codemirror_mode": {
    "name": "ipython",
    "version": 3
   },
   "file_extension": ".py",
   "mimetype": "text/x-python",
   "name": "python",
   "nbconvert_exporter": "python",
   "pygments_lexer": "ipython3",
   "version": "3.6.7"
  }
 },
 "nbformat": 4,
 "nbformat_minor": 2
}
